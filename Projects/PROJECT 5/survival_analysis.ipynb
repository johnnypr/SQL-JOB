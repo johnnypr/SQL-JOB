{
 "cells": [
  {
   "cell_type": "markdown",
   "metadata": {},
   "source": [
    "# Survival Analysis of Different Drug Treatments"
   ]
  },
  {
   "cell_type": "markdown",
   "metadata": {},
   "source": [
    "**Import Modules and set up dataframe using uis.csv dataset**"
   ]
  },
  {
   "cell_type": "code",
   "execution_count": 43,
   "metadata": {},
   "outputs": [],
   "source": [
    "from lifelines import *\n",
    "import pandas as pd\n",
    "import matplotlib.pyplot as plt\n",
    "from scipy.stats import *\n",
    "from lifelines.plotting import plot_lifetimes as lplt\n",
    "\n",
    "\n",
    "df = pd.read_csv('uis.csv')\n",
    "\n",
    "df_r = df.loc[:,[\"age\",\"ndrugtx\",\"treat\",\"site\",\"time\",\"censor\",\"herco\"]]"
   ]
  },
  {
   "cell_type": "markdown",
   "metadata": {},
   "source": [
    "**What the UIS Data Looks like**"
   ]
  },
  {
   "cell_type": "code",
   "execution_count": 44,
   "metadata": {},
   "outputs": [
    {
     "data": {
      "text/html": [
       "<div>\n",
       "<style scoped>\n",
       "    .dataframe tbody tr th:only-of-type {\n",
       "        vertical-align: middle;\n",
       "    }\n",
       "\n",
       "    .dataframe tbody tr th {\n",
       "        vertical-align: top;\n",
       "    }\n",
       "\n",
       "    .dataframe thead th {\n",
       "        text-align: right;\n",
       "    }\n",
       "</style>\n",
       "<table border=\"1\" class=\"dataframe\">\n",
       "  <thead>\n",
       "    <tr style=\"text-align: right;\">\n",
       "      <th></th>\n",
       "      <th>age</th>\n",
       "      <th>ndrugtx</th>\n",
       "      <th>treat</th>\n",
       "      <th>site</th>\n",
       "      <th>time</th>\n",
       "      <th>censor</th>\n",
       "      <th>herco</th>\n",
       "    </tr>\n",
       "  </thead>\n",
       "  <tbody>\n",
       "    <tr>\n",
       "      <td>0</td>\n",
       "      <td>39.0</td>\n",
       "      <td>1.0</td>\n",
       "      <td>1</td>\n",
       "      <td>0</td>\n",
       "      <td>188</td>\n",
       "      <td>1</td>\n",
       "      <td>3</td>\n",
       "    </tr>\n",
       "    <tr>\n",
       "      <td>1</td>\n",
       "      <td>33.0</td>\n",
       "      <td>8.0</td>\n",
       "      <td>1</td>\n",
       "      <td>0</td>\n",
       "      <td>26</td>\n",
       "      <td>1</td>\n",
       "      <td>3</td>\n",
       "    </tr>\n",
       "    <tr>\n",
       "      <td>2</td>\n",
       "      <td>33.0</td>\n",
       "      <td>3.0</td>\n",
       "      <td>1</td>\n",
       "      <td>0</td>\n",
       "      <td>207</td>\n",
       "      <td>1</td>\n",
       "      <td>2</td>\n",
       "    </tr>\n",
       "    <tr>\n",
       "      <td>3</td>\n",
       "      <td>32.0</td>\n",
       "      <td>1.0</td>\n",
       "      <td>0</td>\n",
       "      <td>0</td>\n",
       "      <td>144</td>\n",
       "      <td>1</td>\n",
       "      <td>3</td>\n",
       "    </tr>\n",
       "    <tr>\n",
       "      <td>4</td>\n",
       "      <td>24.0</td>\n",
       "      <td>5.0</td>\n",
       "      <td>1</td>\n",
       "      <td>0</td>\n",
       "      <td>551</td>\n",
       "      <td>0</td>\n",
       "      <td>2</td>\n",
       "    </tr>\n",
       "  </tbody>\n",
       "</table>\n",
       "</div>"
      ],
      "text/plain": [
       "    age  ndrugtx  treat  site  time  censor  herco\n",
       "0  39.0      1.0      1     0   188       1      3\n",
       "1  33.0      8.0      1     0    26       1      3\n",
       "2  33.0      3.0      1     0   207       1      2\n",
       "3  32.0      1.0      0     0   144       1      3\n",
       "4  24.0      5.0      1     0   551       0      2"
      ]
     },
     "execution_count": 44,
     "metadata": {},
     "output_type": "execute_result"
    }
   ],
   "source": [
    "df_r.head()"
   ]
  },
  {
   "cell_type": "markdown",
   "metadata": {},
   "source": [
    "The goal of the UIS data is to model time until return to drug use for patients enrolled in two different residential treatment programs that differed in length (treat=0 is the short program and treat=1 is the long program).  The patients were randomly assigned to two different sites (site=0 is site A and site=1 is site B).  The variable age indicates age at enrollment, herco indicates heroin or cocaine use in the past three months (herco=1 indicates heroin and cocaine use, herco=2 indicates either heroin or cocaine use and herco=3 indicates neither heroin nor cocaine use) and ndrugtx indicates the number of previous drug treatments.  The variables time contains the time until return to drug use and the censor variable indicates whether the subject returned to drug use (censor=1 indicates return to drug use and censor=0 otherwise)."
   ]
  },
  {
   "cell_type": "markdown",
   "metadata": {},
   "source": [
    "**Varience in the Dataset**"
   ]
  },
  {
   "cell_type": "code",
   "execution_count": 45,
   "metadata": {},
   "outputs": [
    {
     "name": "stdout",
     "output_type": "stream",
     "text": [
      "Column Name:  treat\n",
      "0    320\n",
      "1    308\n",
      "Name: treat, dtype: int64\n",
      "-----------------------------\n",
      "Column Name:  site\n",
      "0    444\n",
      "1    184\n",
      "Name: site, dtype: int64\n",
      "-----------------------------\n",
      "Column Name:  censor\n",
      "1    508\n",
      "0    120\n",
      "Name: censor, dtype: int64\n",
      "-----------------------------\n",
      "Column Name:  herco\n",
      "1    289\n",
      "3    225\n",
      "2    114\n",
      "Name: herco, dtype: int64\n",
      "-----------------------------\n",
      "<class 'pandas.core.frame.DataFrame'>\n",
      "RangeIndex: 628 entries, 0 to 627\n",
      "Data columns (total 7 columns):\n",
      "age        623 non-null float64\n",
      "ndrugtx    611 non-null float64\n",
      "treat      628 non-null int64\n",
      "site       628 non-null int64\n",
      "time       628 non-null int64\n",
      "censor     628 non-null int64\n",
      "herco      628 non-null int64\n",
      "dtypes: float64(2), int64(5)\n",
      "memory usage: 34.5 KB\n"
     ]
    }
   ],
   "source": [
    "categories = [i  for i in df_r.columns]\n",
    "\n",
    "categories.remove('age')\n",
    "categories.remove('time')\n",
    "categories.remove('ndrugtx')\n",
    "\n",
    "for cat in categories:\n",
    "    print('Column Name: ',cat)\n",
    "    print(df_r[cat].value_counts())\n",
    "    print('-----------------------------')\n",
    "\n",
    "df_r.info()"
   ]
  },
  {
   "cell_type": "markdown",
   "metadata": {},
   "source": [
    "**Why are we using Survival Analysis**"
   ]
  },
  {
   "cell_type": "markdown",
   "metadata": {},
   "source": [
    "In the figure below, the red lines denote the lifespan of individuals where the death event has been observed, and the blue lines denote the lifespan of the right-censored individuals (deaths have not been observed). If we are asked to estimate the average lifetime of our population, and we naively decided to not included the right-censored individuals, it is clear that we would be severely underestimating the true average lifespan."
   ]
  },
  {
   "cell_type": "code",
   "execution_count": 46,
   "metadata": {},
   "outputs": [
    {
     "data": {
      "text/plain": [
       "Text(0.5, 1.0, 'Time to treat our population, at $t=300$')"
      ]
     },
     "execution_count": 46,
     "metadata": {},
     "output_type": "execute_result"
    },
    {
     "data": {
      "image/png": "[encoded data removed]",
      "text/plain": [
       "<Figure size 432x288 with 1 Axes>"
      ]
     },
     "metadata": {
      "needs_background": "light"
     },
     "output_type": "display_data"
    }
   ],
   "source": [
    "from lifelines.plotting import plot_lifetimes\n",
    "T = df_r['time']\n",
    "T = T[:20]\n",
    "E = df_r['censor']\n",
    "E = E[:20]\n",
    "\n",
    "\n",
    "ax = plot_lifetimes(T,E)\n",
    "\n",
    "ax.vlines(300, 0, 30, lw=2, linestyles='--')\n",
    "ax.set_xlabel(\"time\")\n",
    "ax.set_title(\"Time to treat our population, at $t=300$\")\n"
   ]
  },
  {
   "cell_type": "markdown",
   "metadata": {},
   "source": [
    "**Univariate Analysis**"
   ]
  },
  {
   "cell_type": "markdown",
   "metadata": {},
   "source": [
    "In survival analysis it is highly recommended to look at the Kaplan-Meier curves for all the categorical predictors. This will provide insight into the shape of the survival function for each group and give an idea of whether or not the groups are proportional (i.e. the survival functions are approximately parallel). "
   ]
  },
  {
   "cell_type": "code",
   "execution_count": 47,
   "metadata": {},
   "outputs": [
    {
     "name": "stdout",
     "output_type": "stream",
     "text": [
      "Median User Return Time from Short Term treatment 131.0\n"
     ]
    },
    {
     "ename": "NameError",
     "evalue": "name 'ax1' is not defined",
     "output_type": "error",
     "traceback": [
      "\u001b[0;31m---------------------------------------------------------------------------\u001b[0m",
      "\u001b[0;31mNameError\u001b[0m                                 Traceback (most recent call last)",
      "\u001b[0;32m<ipython-input-47-07592be1c9b8>\u001b[0m in \u001b[0;36m<module>\u001b[0;34m\u001b[0m\n\u001b[1;32m     15\u001b[0m \u001b[0;34m\u001b[0m\u001b[0m\n\u001b[1;32m     16\u001b[0m \u001b[0mkmf\u001b[0m\u001b[0;34m.\u001b[0m\u001b[0mfit\u001b[0m\u001b[0;34m(\u001b[0m\u001b[0mT\u001b[0m\u001b[0;34m[\u001b[0m\u001b[0mlong\u001b[0m\u001b[0;34m]\u001b[0m\u001b[0;34m,\u001b[0m \u001b[0mC\u001b[0m\u001b[0;34m[\u001b[0m\u001b[0mlong\u001b[0m\u001b[0;34m]\u001b[0m\u001b[0;34m,\u001b[0m \u001b[0mlabel\u001b[0m\u001b[0;34m=\u001b[0m\u001b[0;34m'Long Term Treatment'\u001b[0m\u001b[0;34m)\u001b[0m         \u001b[0;31m## fit the cohort 2 data\u001b[0m\u001b[0;34m\u001b[0m\u001b[0;34m\u001b[0m\u001b[0m\n\u001b[0;32m---> 17\u001b[0;31m \u001b[0max\u001b[0m \u001b[0;34m=\u001b[0m \u001b[0mkmf\u001b[0m\u001b[0;34m.\u001b[0m\u001b[0mplot\u001b[0m\u001b[0;34m(\u001b[0m\u001b[0max\u001b[0m\u001b[0;34m=\u001b[0m\u001b[0max1\u001b[0m\u001b[0;34m)\u001b[0m\u001b[0;34m\u001b[0m\u001b[0;34m\u001b[0m\u001b[0m\n\u001b[0m\u001b[1;32m     18\u001b[0m \u001b[0mmedian_\u001b[0m \u001b[0;34m=\u001b[0m \u001b[0mkmf\u001b[0m\u001b[0;34m.\u001b[0m\u001b[0mmedian_survival_time_\u001b[0m\u001b[0;34m\u001b[0m\u001b[0;34m\u001b[0m\u001b[0m\n\u001b[1;32m     19\u001b[0m \u001b[0mprint\u001b[0m\u001b[0;34m(\u001b[0m\u001b[0;34m'Median User Return Time from Long Term treatment'\u001b[0m\u001b[0;34m,\u001b[0m\u001b[0mmedian_\u001b[0m\u001b[0;34m)\u001b[0m\u001b[0;34m\u001b[0m\u001b[0;34m\u001b[0m\u001b[0m\n",
      "\u001b[0;31mNameError\u001b[0m: name 'ax1' is not defined"
     ]
    },
    {
     "data": {
      "image/png": "[encoded data removed]",
      "text/plain": [
       "<Figure size 432x288 with 1 Axes>"
      ]
     },
     "metadata": {
      "needs_background": "light"
     },
     "output_type": "display_data"
    }
   ],
   "source": [
    "T = df_r['time']\n",
    "C = df_r['censor']\n",
    "\n",
    "groups = df_r['treat']           \n",
    "short = (groups == 0)  \n",
    "long = (groups == 1)         \n",
    "\n",
    "kmf = KaplanMeierFitter()\n",
    "\n",
    "kmf.fit(T[short], C[short], label='Short Term Treatment')    ## fit the cohort 1 data\n",
    "ax = kmf.plot()\n",
    "median_ = kmf.median_survival_time_\n",
    "print('Median User Return Time from Short Term treatment',median_)\n",
    "\n",
    "\n",
    "kmf.fit(T[long], C[long], label='Long Term Treatment')         ## fit the cohort 2 data\n",
    "ax = kmf.plot(ax=ax1)\n",
    "median_ = kmf.median_survival_time_\n",
    "print('Median User Return Time from Long Term treatment',median_)\n",
    "\n",
    "kmf.plot()"
   ]
  },
  {
   "cell_type": "code",
   "execution_count": 55,
   "metadata": {},
   "outputs": [
    {
     "name": "stdout",
     "output_type": "stream",
     "text": [
      "Median User Return Time from Short Term treatment 156.0\n",
      "Median User Return Time from Long Term treatment 198.0\n"
     ]
    },
    {
     "data": {
      "text/plain": [
       "<matplotlib.axes._subplots.AxesSubplot at 0x12196b8d0>"
      ]
     },
     "execution_count": 55,
     "metadata": {},
     "output_type": "execute_result"
    },
    {
     "data": {
      "image/png": "[encoded data removed]",
      "text/plain": [
       "<Figure size 432x288 with 1 Axes>"
      ]
     },
     "metadata": {
      "needs_background": "light"
     },
     "output_type": "display_data"
    }
   ],
   "source": [
    "T = df_r['time']\n",
    "C = df_r['censor']\n",
    "\n",
    "groups = df_r['site']           \n",
    "A = (groups == 0)  \n",
    "B = (groups == 1)         \n",
    "\n",
    "kmf = KaplanMeierFitter()\n",
    "\n",
    "kmf.fit(T[A], C[A], label='Site A')    ## fit the cohort 1 data\n",
    "ax = kmf.plot()\n",
    "median_ = kmf.median_survival_time_\n",
    "print('Median User Return Time from Short Term treatment',median_)\n",
    "\n",
    "\n",
    "kmf.fit(T[B], C[B], label='Site B')         ## fit the cohort 2 data\n",
    "ax = kmf.plot(ax=ax1)\n",
    "median_ = kmf.median_survival_time_\n",
    "print('Median User Return Time from Long Term treatment',median_)\n",
    "\n",
    "kmf.plot()"
   ]
  },
  {
   "cell_type": "code",
   "execution_count": 53,
   "metadata": {},
   "outputs": [
    {
     "name": "stdout",
     "output_type": "stream",
     "text": [
      "Heroine and Cocaine 170.0\n",
      "Heroine or Cocaine 142.0\n",
      "Drug Free 168.0\n"
     ]
    },
    {
     "data": {
      "image/png": "[encoded data removed]",
      "text/plain": [
       "<Figure size 432x288 with 1 Axes>"
      ]
     },
     "metadata": {
      "needs_background": "light"
     },
     "output_type": "display_data"
    }
   ],
   "source": [
    "T = df_r['time']\n",
    "C = df_r['censor']\n",
    "\n",
    "groups = df_r['herco']           \n",
    "A = (groups == 1)  \n",
    "B = (groups == 2)\n",
    "D = (groups == 3)\n",
    "\n",
    "kmf = KaplanMeierFitter()\n",
    "\n",
    "kmf.fit(T[A], C[A], label='Heroine and Cocaine')    ## fit the cohort 1 data\n",
    "ax = kmf.plot()\n",
    "median_ = kmf.median_survival_time_\n",
    "print('Heroine and Cocaine',median_)\n",
    "\n",
    "\n",
    "\n",
    "\n",
    "kmf.fit(T[B], C[B], label='Heroine or Cocaine')         ## fit the cohort 2 data\n",
    "ax1 = kmf.plot(ax=ax)\n",
    "median_ = kmf.median_survival_time_\n",
    "print('Heroine or Cocaine',median_)\n",
    "\n",
    "\n",
    "\n",
    "kmf.fit(T[D], C[D], label='No Drugs')         ## fit the cohort 3 data\n",
    "kmf.plot(ax=ax1)\n",
    "median_ = kmf.median_survival_time_\n",
    "print('Drug Free',median_)\n",
    "\n",
    "\n"
   ]
  },
  {
   "cell_type": "code",
   "execution_count": 48,
   "metadata": {},
   "outputs": [
    {
     "name": "stdout",
     "output_type": "stream",
     "text": [
      "            age ndrugtx   treat    site    time  censor   herco\n",
      "age           0       0  0.2576  0.3047  0.0823  0.1322  0.2819\n",
      "ndrugtx       0       0  0.8529  0.0201  0.0009  0.0005   0.005\n",
      "treat    0.2576  0.8529       0  0.5354  0.0061  0.2605  0.0589\n",
      "site     0.3047  0.0201  0.5354       0  0.2121  0.2896  0.0042\n",
      "time     0.0823  0.0009  0.0061  0.2121       0       0  0.5569\n",
      "censor   0.1322  0.0005  0.2605  0.2896       0       0  0.6983\n",
      "herco    0.2819   0.005  0.0589  0.0042  0.5569  0.6983       0\n"
     ]
    }
   ],
   "source": [
    "def calculate_pvalues(df):\n",
    "    df = df.dropna()._get_numeric_data()\n",
    "    dfcols = pd.DataFrame(columns=df.columns)\n",
    "    pvalues = dfcols.transpose().join(dfcols, how='outer')\n",
    "    for r in df.columns:\n",
    "        for c in df.columns:\n",
    "            pvalues[r][c] = round(pearsonr(df[r], df[c])[1], 4)\n",
    "    return pvalues\n",
    "print(calculate_pvalues(df_r))"
   ]
  },
  {
   "cell_type": "code",
   "execution_count": 49,
   "metadata": {},
   "outputs": [
    {
     "data": {
      "text/plain": [
       "<matplotlib.axes._subplots.AxesSubplot at 0x1216a8208>"
      ]
     },
     "execution_count": 49,
     "metadata": {},
     "output_type": "execute_result"
    },
    {
     "data": {
      "image/png": "[encoded data removed]",
      "text/plain": [
       "<Figure size 432x288 with 1 Axes>"
      ]
     },
     "metadata": {
      "needs_background": "light"
     },
     "output_type": "display_data"
    }
   ],
   "source": [
    "kmf.plot_cumulative_density()"
   ]
  },
  {
   "cell_type": "code",
   "execution_count": 50,
   "metadata": {},
   "outputs": [
    {
     "data": {
      "text/plain": [
       "<matplotlib.axes._subplots.AxesSubplot at 0x1217854e0>"
      ]
     },
     "execution_count": 50,
     "metadata": {},
     "output_type": "execute_result"
    },
    {
     "data": {
      "image/png": "[encoded data removed]",
      "text/plain": [
       "<Figure size 432x288 with 1 Axes>"
      ]
     },
     "metadata": {
      "needs_background": "light"
     },
     "output_type": "display_data"
    }
   ],
   "source": [
    "T = df_r['time']\n",
    "C = df_r['censor']\n",
    "\n",
    "naf = NelsonAalenFitter()\n",
    "naf.fit(T,event_observed=C)\n",
    "naf.plot()"
   ]
  },
  {
   "cell_type": "code",
   "execution_count": 51,
   "metadata": {},
   "outputs": [
    {
     "data": {
      "text/plain": [
       "<lifelines.CoxPHFitter: fitted with 628 total observations, 120 right-censored observations>"
      ]
     },
     "execution_count": 51,
     "metadata": {},
     "output_type": "execute_result"
    }
   ],
   "source": [
    "'''\n",
    "In real life situations along with the event data we also have the covariates of the subject. \n",
    "In such cases, it is very important to know about the impact of covariates on the survival curve.\n",
    "'''\n",
    "\n",
    "df_dummy = pd.get_dummies(df_r)\n",
    "a1 = df_dummy['age'].mean()\n",
    "a2 = df_dummy[\"ndrugtx\"].mean()\n",
    "\n",
    "df_dummy['age'].fillna(value=a1, inplace=True)\n",
    "df_dummy[\"ndrugtx\"].fillna(value=a2, inplace=True)\n",
    "\n",
    "  \n",
    "cph = CoxPHFitter()\n",
    "cph.fit(df_dummy, duration_col='time', event_col='censor')\n"
   ]
  },
  {
   "cell_type": "code",
   "execution_count": 59,
   "metadata": {},
   "outputs": [
    {
     "data": {
      "text/plain": [
       "<matplotlib.axes._subplots.AxesSubplot at 0x11d495518>"
      ]
     },
     "execution_count": 59,
     "metadata": {},
     "output_type": "execute_result"
    },
    {
     "data": {
      "image/png": "[encoded data removed]",
      "text/plain": [
       "<Figure size 432x288 with 1 Axes>"
      ]
     },
     "metadata": {
      "needs_background": "light"
     },
     "output_type": "display_data"
    }
   ],
   "source": [
    "cph.plot()"
   ]
  },
  {
   "cell_type": "code",
   "execution_count": 61,
   "metadata": {},
   "outputs": [
    {
     "data": {
      "text/html": [
       "<div>\n",
       "<style scoped>\n",
       "    .dataframe tbody tr th:only-of-type {\n",
       "        vertical-align: middle;\n",
       "    }\n",
       "\n",
       "    .dataframe tbody tr th {\n",
       "        vertical-align: top;\n",
       "    }\n",
       "\n",
       "    .dataframe thead th {\n",
       "        text-align: right;\n",
       "    }\n",
       "</style>\n",
       "<table border=\"1\" class=\"dataframe\">\n",
       "  <thead>\n",
       "    <tr style=\"text-align: right;\">\n",
       "      <th></th>\n",
       "      <th>0</th>\n",
       "    </tr>\n",
       "  </thead>\n",
       "  <tbody>\n",
       "    <tr>\n",
       "      <td>0</td>\n",
       "      <td>0.756057</td>\n",
       "    </tr>\n",
       "    <tr>\n",
       "      <td>1</td>\n",
       "      <td>1.104674</td>\n",
       "    </tr>\n",
       "    <tr>\n",
       "      <td>2</td>\n",
       "      <td>0.866504</td>\n",
       "    </tr>\n",
       "    <tr>\n",
       "      <td>3</td>\n",
       "      <td>1.147707</td>\n",
       "    </tr>\n",
       "    <tr>\n",
       "      <td>4</td>\n",
       "      <td>1.132790</td>\n",
       "    </tr>\n",
       "    <tr>\n",
       "      <td>...</td>\n",
       "      <td>...</td>\n",
       "    </tr>\n",
       "    <tr>\n",
       "      <td>623</td>\n",
       "      <td>0.718946</td>\n",
       "    </tr>\n",
       "    <tr>\n",
       "      <td>624</td>\n",
       "      <td>0.890409</td>\n",
       "    </tr>\n",
       "    <tr>\n",
       "      <td>625</td>\n",
       "      <td>0.858634</td>\n",
       "    </tr>\n",
       "    <tr>\n",
       "      <td>626</td>\n",
       "      <td>0.811457</td>\n",
       "    </tr>\n",
       "    <tr>\n",
       "      <td>627</td>\n",
       "      <td>0.775766</td>\n",
       "    </tr>\n",
       "  </tbody>\n",
       "</table>\n",
       "<p>628 rows × 1 columns</p>\n",
       "</div>"
      ],
      "text/plain": [
       "            0\n",
       "0    0.756057\n",
       "1    1.104674\n",
       "2    0.866504\n",
       "3    1.147707\n",
       "4    1.132790\n",
       "..        ...\n",
       "623  0.718946\n",
       "624  0.890409\n",
       "625  0.858634\n",
       "626  0.811457\n",
       "627  0.775766\n",
       "\n",
       "[628 rows x 1 columns]"
      ]
     },
     "execution_count": 61,
     "metadata": {},
     "output_type": "execute_result"
    }
   ],
   "source": [
    "cph.predict_partial_hazard(df_dummy)"
   ]
  },
  {
   "cell_type": "code",
   "execution_count": 62,
   "metadata": {},
   "outputs": [
    {
     "data": {
      "text/html": [
       "<div>\n",
       "<style scoped>\n",
       "    .dataframe tbody tr th:only-of-type {\n",
       "        vertical-align: middle;\n",
       "    }\n",
       "\n",
       "    .dataframe tbody tr th {\n",
       "        vertical-align: top;\n",
       "    }\n",
       "\n",
       "    .dataframe thead th {\n",
       "        text-align: right;\n",
       "    }\n",
       "</style>\n",
       "<table border=\"1\" class=\"dataframe\">\n",
       "  <thead>\n",
       "    <tr style=\"text-align: right;\">\n",
       "      <th></th>\n",
       "      <th>0</th>\n",
       "      <th>1</th>\n",
       "      <th>2</th>\n",
       "      <th>3</th>\n",
       "      <th>4</th>\n",
       "      <th>5</th>\n",
       "      <th>6</th>\n",
       "      <th>7</th>\n",
       "      <th>8</th>\n",
       "      <th>9</th>\n",
       "      <th>...</th>\n",
       "      <th>618</th>\n",
       "      <th>619</th>\n",
       "      <th>620</th>\n",
       "      <th>621</th>\n",
       "      <th>622</th>\n",
       "      <th>623</th>\n",
       "      <th>624</th>\n",
       "      <th>625</th>\n",
       "      <th>626</th>\n",
       "      <th>627</th>\n",
       "    </tr>\n",
       "  </thead>\n",
       "  <tbody>\n",
       "    <tr>\n",
       "      <td>2.0</td>\n",
       "      <td>0.998840</td>\n",
       "      <td>0.998305</td>\n",
       "      <td>0.998671</td>\n",
       "      <td>0.998239</td>\n",
       "      <td>0.998262</td>\n",
       "      <td>0.998762</td>\n",
       "      <td>0.996275</td>\n",
       "      <td>0.998437</td>\n",
       "      <td>0.998859</td>\n",
       "      <td>0.998566</td>\n",
       "      <td>...</td>\n",
       "      <td>0.998363</td>\n",
       "      <td>0.999027</td>\n",
       "      <td>0.998541</td>\n",
       "      <td>0.998617</td>\n",
       "      <td>0.998478</td>\n",
       "      <td>0.998897</td>\n",
       "      <td>0.998634</td>\n",
       "      <td>0.998683</td>\n",
       "      <td>0.998755</td>\n",
       "      <td>0.998810</td>\n",
       "    </tr>\n",
       "    <tr>\n",
       "      <td>3.0</td>\n",
       "      <td>0.995362</td>\n",
       "      <td>0.993231</td>\n",
       "      <td>0.994686</td>\n",
       "      <td>0.992968</td>\n",
       "      <td>0.993059</td>\n",
       "      <td>0.995049</td>\n",
       "      <td>0.985165</td>\n",
       "      <td>0.993755</td>\n",
       "      <td>0.995440</td>\n",
       "      <td>0.994269</td>\n",
       "      <td>...</td>\n",
       "      <td>0.993460</td>\n",
       "      <td>0.996110</td>\n",
       "      <td>0.994170</td>\n",
       "      <td>0.994475</td>\n",
       "      <td>0.993919</td>\n",
       "      <td>0.995589</td>\n",
       "      <td>0.994540</td>\n",
       "      <td>0.994735</td>\n",
       "      <td>0.995023</td>\n",
       "      <td>0.995242</td>\n",
       "    </tr>\n",
       "    <tr>\n",
       "      <td>4.0</td>\n",
       "      <td>0.990718</td>\n",
       "      <td>0.986467</td>\n",
       "      <td>0.989369</td>\n",
       "      <td>0.985944</td>\n",
       "      <td>0.986125</td>\n",
       "      <td>0.990094</td>\n",
       "      <td>0.970464</td>\n",
       "      <td>0.987512</td>\n",
       "      <td>0.990874</td>\n",
       "      <td>0.988537</td>\n",
       "      <td>...</td>\n",
       "      <td>0.986924</td>\n",
       "      <td>0.992211</td>\n",
       "      <td>0.988338</td>\n",
       "      <td>0.988947</td>\n",
       "      <td>0.987838</td>\n",
       "      <td>0.991172</td>\n",
       "      <td>0.989078</td>\n",
       "      <td>0.989466</td>\n",
       "      <td>0.990041</td>\n",
       "      <td>0.990477</td>\n",
       "    </tr>\n",
       "    <tr>\n",
       "      <td>5.0</td>\n",
       "      <td>0.986068</td>\n",
       "      <td>0.979709</td>\n",
       "      <td>0.984049</td>\n",
       "      <td>0.978927</td>\n",
       "      <td>0.979198</td>\n",
       "      <td>0.985133</td>\n",
       "      <td>0.955894</td>\n",
       "      <td>0.981271</td>\n",
       "      <td>0.986301</td>\n",
       "      <td>0.982803</td>\n",
       "      <td>...</td>\n",
       "      <td>0.980392</td>\n",
       "      <td>0.988304</td>\n",
       "      <td>0.982506</td>\n",
       "      <td>0.983417</td>\n",
       "      <td>0.981758</td>\n",
       "      <td>0.986747</td>\n",
       "      <td>0.983612</td>\n",
       "      <td>0.984192</td>\n",
       "      <td>0.985054</td>\n",
       "      <td>0.985707</td>\n",
       "    </tr>\n",
       "    <tr>\n",
       "      <td>6.0</td>\n",
       "      <td>0.982571</td>\n",
       "      <td>0.974638</td>\n",
       "      <td>0.980051</td>\n",
       "      <td>0.973663</td>\n",
       "      <td>0.974001</td>\n",
       "      <td>0.981404</td>\n",
       "      <td>0.945039</td>\n",
       "      <td>0.976585</td>\n",
       "      <td>0.982863</td>\n",
       "      <td>0.978496</td>\n",
       "      <td>...</td>\n",
       "      <td>0.975489</td>\n",
       "      <td>0.985365</td>\n",
       "      <td>0.978126</td>\n",
       "      <td>0.979262</td>\n",
       "      <td>0.977193</td>\n",
       "      <td>0.983420</td>\n",
       "      <td>0.979506</td>\n",
       "      <td>0.980230</td>\n",
       "      <td>0.981306</td>\n",
       "      <td>0.982121</td>\n",
       "    </tr>\n",
       "    <tr>\n",
       "      <td>...</td>\n",
       "      <td>...</td>\n",
       "      <td>...</td>\n",
       "      <td>...</td>\n",
       "      <td>...</td>\n",
       "      <td>...</td>\n",
       "      <td>...</td>\n",
       "      <td>...</td>\n",
       "      <td>...</td>\n",
       "      <td>...</td>\n",
       "      <td>...</td>\n",
       "      <td>...</td>\n",
       "      <td>...</td>\n",
       "      <td>...</td>\n",
       "      <td>...</td>\n",
       "      <td>...</td>\n",
       "      <td>...</td>\n",
       "      <td>...</td>\n",
       "      <td>...</td>\n",
       "      <td>...</td>\n",
       "      <td>...</td>\n",
       "      <td>...</td>\n",
       "    </tr>\n",
       "    <tr>\n",
       "      <td>734.0</td>\n",
       "      <td>0.251429</td>\n",
       "      <td>0.133030</td>\n",
       "      <td>0.205507</td>\n",
       "      <td>0.122976</td>\n",
       "      <td>0.126372</td>\n",
       "      <td>0.229026</td>\n",
       "      <td>0.011811</td>\n",
       "      <td>0.155600</td>\n",
       "      <td>0.257357</td>\n",
       "      <td>0.181423</td>\n",
       "      <td>...</td>\n",
       "      <td>0.142470</td>\n",
       "      <td>0.314229</td>\n",
       "      <td>0.176106</td>\n",
       "      <td>0.192914</td>\n",
       "      <td>0.163393</td>\n",
       "      <td>0.269058</td>\n",
       "      <td>0.196729</td>\n",
       "      <td>0.208482</td>\n",
       "      <td>0.227238</td>\n",
       "      <td>0.242541</td>\n",
       "    </tr>\n",
       "    <tr>\n",
       "      <td>762.0</td>\n",
       "      <td>0.251429</td>\n",
       "      <td>0.133030</td>\n",
       "      <td>0.205507</td>\n",
       "      <td>0.122976</td>\n",
       "      <td>0.126372</td>\n",
       "      <td>0.229026</td>\n",
       "      <td>0.011811</td>\n",
       "      <td>0.155600</td>\n",
       "      <td>0.257357</td>\n",
       "      <td>0.181423</td>\n",
       "      <td>...</td>\n",
       "      <td>0.142470</td>\n",
       "      <td>0.314229</td>\n",
       "      <td>0.176106</td>\n",
       "      <td>0.192914</td>\n",
       "      <td>0.163393</td>\n",
       "      <td>0.269058</td>\n",
       "      <td>0.196729</td>\n",
       "      <td>0.208482</td>\n",
       "      <td>0.227238</td>\n",
       "      <td>0.242541</td>\n",
       "    </tr>\n",
       "    <tr>\n",
       "      <td>763.0</td>\n",
       "      <td>0.251429</td>\n",
       "      <td>0.133030</td>\n",
       "      <td>0.205507</td>\n",
       "      <td>0.122976</td>\n",
       "      <td>0.126372</td>\n",
       "      <td>0.229026</td>\n",
       "      <td>0.011811</td>\n",
       "      <td>0.155600</td>\n",
       "      <td>0.257357</td>\n",
       "      <td>0.181423</td>\n",
       "      <td>...</td>\n",
       "      <td>0.142470</td>\n",
       "      <td>0.314229</td>\n",
       "      <td>0.176106</td>\n",
       "      <td>0.192914</td>\n",
       "      <td>0.163393</td>\n",
       "      <td>0.269058</td>\n",
       "      <td>0.196729</td>\n",
       "      <td>0.208482</td>\n",
       "      <td>0.227238</td>\n",
       "      <td>0.242541</td>\n",
       "    </tr>\n",
       "    <tr>\n",
       "      <td>805.0</td>\n",
       "      <td>0.251429</td>\n",
       "      <td>0.133030</td>\n",
       "      <td>0.205507</td>\n",
       "      <td>0.122976</td>\n",
       "      <td>0.126372</td>\n",
       "      <td>0.229026</td>\n",
       "      <td>0.011811</td>\n",
       "      <td>0.155600</td>\n",
       "      <td>0.257357</td>\n",
       "      <td>0.181423</td>\n",
       "      <td>...</td>\n",
       "      <td>0.142470</td>\n",
       "      <td>0.314229</td>\n",
       "      <td>0.176106</td>\n",
       "      <td>0.192914</td>\n",
       "      <td>0.163393</td>\n",
       "      <td>0.269058</td>\n",
       "      <td>0.196729</td>\n",
       "      <td>0.208482</td>\n",
       "      <td>0.227238</td>\n",
       "      <td>0.242541</td>\n",
       "    </tr>\n",
       "    <tr>\n",
       "      <td>1172.0</td>\n",
       "      <td>0.251429</td>\n",
       "      <td>0.133030</td>\n",
       "      <td>0.205507</td>\n",
       "      <td>0.122976</td>\n",
       "      <td>0.126372</td>\n",
       "      <td>0.229026</td>\n",
       "      <td>0.011811</td>\n",
       "      <td>0.155600</td>\n",
       "      <td>0.257357</td>\n",
       "      <td>0.181423</td>\n",
       "      <td>...</td>\n",
       "      <td>0.142470</td>\n",
       "      <td>0.314229</td>\n",
       "      <td>0.176106</td>\n",
       "      <td>0.192914</td>\n",
       "      <td>0.163393</td>\n",
       "      <td>0.269058</td>\n",
       "      <td>0.196729</td>\n",
       "      <td>0.208482</td>\n",
       "      <td>0.227238</td>\n",
       "      <td>0.242541</td>\n",
       "    </tr>\n",
       "  </tbody>\n",
       "</table>\n",
       "<p>338 rows × 628 columns</p>\n",
       "</div>"
      ],
      "text/plain": [
       "             0         1         2         3         4         5         6    \\\n",
       "2.0     0.998840  0.998305  0.998671  0.998239  0.998262  0.998762  0.996275   \n",
       "3.0     0.995362  0.993231  0.994686  0.992968  0.993059  0.995049  0.985165   \n",
       "4.0     0.990718  0.986467  0.989369  0.985944  0.986125  0.990094  0.970464   \n",
       "5.0     0.986068  0.979709  0.984049  0.978927  0.979198  0.985133  0.955894   \n",
       "6.0     0.982571  0.974638  0.980051  0.973663  0.974001  0.981404  0.945039   \n",
       "...          ...       ...       ...       ...       ...       ...       ...   \n",
       "734.0   0.251429  0.133030  0.205507  0.122976  0.126372  0.229026  0.011811   \n",
       "762.0   0.251429  0.133030  0.205507  0.122976  0.126372  0.229026  0.011811   \n",
       "763.0   0.251429  0.133030  0.205507  0.122976  0.126372  0.229026  0.011811   \n",
       "805.0   0.251429  0.133030  0.205507  0.122976  0.126372  0.229026  0.011811   \n",
       "1172.0  0.251429  0.133030  0.205507  0.122976  0.126372  0.229026  0.011811   \n",
       "\n",
       "             7         8         9    ...       618       619       620  \\\n",
       "2.0     0.998437  0.998859  0.998566  ...  0.998363  0.999027  0.998541   \n",
       "3.0     0.993755  0.995440  0.994269  ...  0.993460  0.996110  0.994170   \n",
       "4.0     0.987512  0.990874  0.988537  ...  0.986924  0.992211  0.988338   \n",
       "5.0     0.981271  0.986301  0.982803  ...  0.980392  0.988304  0.982506   \n",
       "6.0     0.976585  0.982863  0.978496  ...  0.975489  0.985365  0.978126   \n",
       "...          ...       ...       ...  ...       ...       ...       ...   \n",
       "734.0   0.155600  0.257357  0.181423  ...  0.142470  0.314229  0.176106   \n",
       "762.0   0.155600  0.257357  0.181423  ...  0.142470  0.314229  0.176106   \n",
       "763.0   0.155600  0.257357  0.181423  ...  0.142470  0.314229  0.176106   \n",
       "805.0   0.155600  0.257357  0.181423  ...  0.142470  0.314229  0.176106   \n",
       "1172.0  0.155600  0.257357  0.181423  ...  0.142470  0.314229  0.176106   \n",
       "\n",
       "             621       622       623       624       625       626       627  \n",
       "2.0     0.998617  0.998478  0.998897  0.998634  0.998683  0.998755  0.998810  \n",
       "3.0     0.994475  0.993919  0.995589  0.994540  0.994735  0.995023  0.995242  \n",
       "4.0     0.988947  0.987838  0.991172  0.989078  0.989466  0.990041  0.990477  \n",
       "5.0     0.983417  0.981758  0.986747  0.983612  0.984192  0.985054  0.985707  \n",
       "6.0     0.979262  0.977193  0.983420  0.979506  0.980230  0.981306  0.982121  \n",
       "...          ...       ...       ...       ...       ...       ...       ...  \n",
       "734.0   0.192914  0.163393  0.269058  0.196729  0.208482  0.227238  0.242541  \n",
       "762.0   0.192914  0.163393  0.269058  0.196729  0.208482  0.227238  0.242541  \n",
       "763.0   0.192914  0.163393  0.269058  0.196729  0.208482  0.227238  0.242541  \n",
       "805.0   0.192914  0.163393  0.269058  0.196729  0.208482  0.227238  0.242541  \n",
       "1172.0  0.192914  0.163393  0.269058  0.196729  0.208482  0.227238  0.242541  \n",
       "\n",
       "[338 rows x 628 columns]"
      ]
     },
     "execution_count": 62,
     "metadata": {},
     "output_type": "execute_result"
    }
   ],
   "source": [
    "cph.predict_survival_function(df_dummy)\n"
   ]
  },
  {
   "cell_type": "code",
   "execution_count": 63,
   "metadata": {},
   "outputs": [
    {
     "data": {
      "text/html": [
       "<div>\n",
       "<style scoped>\n",
       "    .dataframe tbody tr th:only-of-type {\n",
       "        vertical-align: middle;\n",
       "    }\n",
       "\n",
       "    .dataframe tbody tr th {\n",
       "        vertical-align: top;\n",
       "    }\n",
       "\n",
       "    .dataframe thead th {\n",
       "        text-align: right;\n",
       "    }\n",
       "</style>\n",
       "<table border=\"1\" class=\"dataframe\">\n",
       "  <thead>\n",
       "    <tr style=\"text-align: right;\">\n",
       "      <th></th>\n",
       "      <th>0.5</th>\n",
       "    </tr>\n",
       "  </thead>\n",
       "  <tbody>\n",
       "    <tr>\n",
       "      <td>0</td>\n",
       "      <td>220.0</td>\n",
       "    </tr>\n",
       "    <tr>\n",
       "      <td>1</td>\n",
       "      <td>152.0</td>\n",
       "    </tr>\n",
       "    <tr>\n",
       "      <td>2</td>\n",
       "      <td>188.0</td>\n",
       "    </tr>\n",
       "    <tr>\n",
       "      <td>3</td>\n",
       "      <td>144.0</td>\n",
       "    </tr>\n",
       "    <tr>\n",
       "      <td>4</td>\n",
       "      <td>147.0</td>\n",
       "    </tr>\n",
       "    <tr>\n",
       "      <td>...</td>\n",
       "      <td>...</td>\n",
       "    </tr>\n",
       "    <tr>\n",
       "      <td>623</td>\n",
       "      <td>226.0</td>\n",
       "    </tr>\n",
       "    <tr>\n",
       "      <td>624</td>\n",
       "      <td>184.0</td>\n",
       "    </tr>\n",
       "    <tr>\n",
       "      <td>625</td>\n",
       "      <td>190.0</td>\n",
       "    </tr>\n",
       "    <tr>\n",
       "      <td>626</td>\n",
       "      <td>200.0</td>\n",
       "    </tr>\n",
       "    <tr>\n",
       "      <td>627</td>\n",
       "      <td>212.0</td>\n",
       "    </tr>\n",
       "  </tbody>\n",
       "</table>\n",
       "<p>628 rows × 1 columns</p>\n",
       "</div>"
      ],
      "text/plain": [
       "       0.5\n",
       "0    220.0\n",
       "1    152.0\n",
       "2    188.0\n",
       "3    144.0\n",
       "4    147.0\n",
       "..     ...\n",
       "623  226.0\n",
       "624  184.0\n",
       "625  190.0\n",
       "626  200.0\n",
       "627  212.0\n",
       "\n",
       "[628 rows x 1 columns]"
      ]
     },
     "execution_count": 63,
     "metadata": {},
     "output_type": "execute_result"
    }
   ],
   "source": [
    "cph.predict_median(df_dummy)"
   ]
  },
  {
   "cell_type": "code",
   "execution_count": 65,
   "metadata": {},
   "outputs": [
    {
     "ename": "NameError",
     "evalue": "name 'pd' is not defined",
     "output_type": "error",
     "traceback": [
      "\u001b[0;31m---------------------------------------------------------------------------\u001b[0m",
      "\u001b[0;31mNameError\u001b[0m                                 Traceback (most recent call last)",
      "\u001b[0;32m<ipython-input-65-821d46cad191>\u001b[0m in \u001b[0;36m<module>\u001b[0;34m\u001b[0m\n\u001b[0;32m----> 1\u001b[0;31m \u001b[0mprint\u001b[0m\u001b[0;34m(\u001b[0m\u001b[0mcph\u001b[0m\u001b[0;34m.\u001b[0m\u001b[0mprint_summary\u001b[0m\u001b[0;34m(\u001b[0m\u001b[0;34m)\u001b[0m\u001b[0;34m)\u001b[0m\u001b[0;34m\u001b[0m\u001b[0;34m\u001b[0m\u001b[0m\n\u001b[0m",
      "\u001b[0;32m/Library/Frameworks/Python.framework/Versions/3.7/lib/python3.7/site-packages/lifelines/fitters/coxph_fitter.py\u001b[0m in \u001b[0;36mprint_summary\u001b[0;34m(self, decimals, style, **kwargs)\u001b[0m\n\u001b[1;32m   1335\u001b[0m         \u001b[0mp\u001b[0m \u001b[0;34m=\u001b[0m \u001b[0mPrinter\u001b[0m\u001b[0;34m(\u001b[0m\u001b[0mheaders\u001b[0m\u001b[0;34m,\u001b[0m \u001b[0mself\u001b[0m\u001b[0;34m,\u001b[0m \u001b[0mjustify\u001b[0m\u001b[0;34m,\u001b[0m \u001b[0mdecimals\u001b[0m\u001b[0;34m,\u001b[0m \u001b[0mkwargs\u001b[0m\u001b[0;34m)\u001b[0m\u001b[0;34m\u001b[0m\u001b[0;34m\u001b[0m\u001b[0m\n\u001b[1;32m   1336\u001b[0m \u001b[0;34m\u001b[0m\u001b[0m\n\u001b[0;32m-> 1337\u001b[0;31m         \u001b[0mp\u001b[0m\u001b[0;34m.\u001b[0m\u001b[0mprint\u001b[0m\u001b[0;34m(\u001b[0m\u001b[0mstyle\u001b[0m\u001b[0;34m=\u001b[0m\u001b[0mstyle\u001b[0m\u001b[0;34m)\u001b[0m\u001b[0;34m\u001b[0m\u001b[0;34m\u001b[0m\u001b[0m\n\u001b[0m\u001b[1;32m   1338\u001b[0m \u001b[0;34m\u001b[0m\u001b[0m\n\u001b[1;32m   1339\u001b[0m     \u001b[0;32mdef\u001b[0m \u001b[0mlog_likelihood_ratio_test\u001b[0m\u001b[0;34m(\u001b[0m\u001b[0mself\u001b[0m\u001b[0;34m)\u001b[0m \u001b[0;34m->\u001b[0m \u001b[0mStatisticalResult\u001b[0m\u001b[0;34m:\u001b[0m\u001b[0;34m\u001b[0m\u001b[0;34m\u001b[0m\u001b[0m\n",
      "\u001b[0;32m/Library/Frameworks/Python.framework/Versions/3.7/lib/python3.7/site-packages/lifelines/utils/printer.py\u001b[0m in \u001b[0;36mprint\u001b[0;34m(self, style)\u001b[0m\n\u001b[1;32m     37\u001b[0m                 \u001b[0mip\u001b[0m \u001b[0;34m=\u001b[0m \u001b[0mget_ipython\u001b[0m\u001b[0;34m(\u001b[0m\u001b[0;34m)\u001b[0m\u001b[0;34m\u001b[0m\u001b[0;34m\u001b[0m\u001b[0m\n\u001b[1;32m     38\u001b[0m                 \u001b[0;32mif\u001b[0m \u001b[0mip\u001b[0m \u001b[0;32mand\u001b[0m \u001b[0mip\u001b[0m\u001b[0;34m.\u001b[0m\u001b[0mhas_trait\u001b[0m\u001b[0;34m(\u001b[0m\u001b[0;34m\"kernel\"\u001b[0m\u001b[0;34m)\u001b[0m\u001b[0;34m:\u001b[0m\u001b[0;34m\u001b[0m\u001b[0;34m\u001b[0m\u001b[0m\n\u001b[0;32m---> 39\u001b[0;31m                     \u001b[0mself\u001b[0m\u001b[0;34m.\u001b[0m\u001b[0mhtml_print_inside_jupyter\u001b[0m\u001b[0;34m(\u001b[0m\u001b[0;34m)\u001b[0m\u001b[0;34m\u001b[0m\u001b[0;34m\u001b[0m\u001b[0m\n\u001b[0m\u001b[1;32m     40\u001b[0m                 \u001b[0;32melse\u001b[0m\u001b[0;34m:\u001b[0m\u001b[0;34m\u001b[0m\u001b[0;34m\u001b[0m\u001b[0m\n\u001b[1;32m     41\u001b[0m                     \u001b[0mself\u001b[0m\u001b[0;34m.\u001b[0m\u001b[0mascii_print\u001b[0m\u001b[0;34m(\u001b[0m\u001b[0;34m)\u001b[0m\u001b[0;34m\u001b[0m\u001b[0;34m\u001b[0m\u001b[0m\n",
      "\u001b[0;32m/Library/Frameworks/Python.framework/Versions/3.7/lib/python3.7/site-packages/lifelines/utils/printer.py\u001b[0m in \u001b[0;36mhtml_print_inside_jupyter\u001b[0;34m(self)\u001b[0m\n\u001b[1;32m     52\u001b[0m         \u001b[0;32mfrom\u001b[0m \u001b[0mIPython\u001b[0m\u001b[0;34m.\u001b[0m\u001b[0mdisplay\u001b[0m \u001b[0;32mimport\u001b[0m \u001b[0mHTML\u001b[0m\u001b[0;34m,\u001b[0m \u001b[0mdisplay\u001b[0m\u001b[0;34m\u001b[0m\u001b[0;34m\u001b[0m\u001b[0m\n\u001b[1;32m     53\u001b[0m \u001b[0;34m\u001b[0m\u001b[0m\n\u001b[0;32m---> 54\u001b[0;31m         \u001b[0mdisplay\u001b[0m\u001b[0;34m(\u001b[0m\u001b[0mHTML\u001b[0m\u001b[0;34m(\u001b[0m\u001b[0mself\u001b[0m\u001b[0;34m.\u001b[0m\u001b[0mto_html\u001b[0m\u001b[0;34m(\u001b[0m\u001b[0;34m)\u001b[0m\u001b[0;34m)\u001b[0m\u001b[0;34m)\u001b[0m\u001b[0;34m\u001b[0m\u001b[0;34m\u001b[0m\u001b[0m\n\u001b[0m\u001b[1;32m     55\u001b[0m \u001b[0;34m\u001b[0m\u001b[0m\n\u001b[1;32m     56\u001b[0m     \u001b[0;32mdef\u001b[0m \u001b[0mhtml_print\u001b[0m\u001b[0;34m(\u001b[0m\u001b[0mself\u001b[0m\u001b[0;34m)\u001b[0m\u001b[0;34m:\u001b[0m\u001b[0;34m\u001b[0m\u001b[0;34m\u001b[0m\u001b[0m\n",
      "\u001b[0;32m/Library/Frameworks/Python.framework/Versions/3.7/lib/python3.7/site-packages/lifelines/utils/printer.py\u001b[0m in \u001b[0;36mto_html\u001b[0;34m(self)\u001b[0m\n\u001b[1;32m     66\u001b[0m         \u001b[0mheaders\u001b[0m\u001b[0;34m.\u001b[0m\u001b[0minsert\u001b[0m\u001b[0;34m(\u001b[0m\u001b[0;36m0\u001b[0m\u001b[0;34m,\u001b[0m \u001b[0;34m(\u001b[0m\u001b[0;34m\"model\"\u001b[0m\u001b[0;34m,\u001b[0m \u001b[0;34m\"lifelines.\"\u001b[0m \u001b[0;34m+\u001b[0m \u001b[0mself\u001b[0m\u001b[0;34m.\u001b[0m\u001b[0mmodel\u001b[0m\u001b[0;34m.\u001b[0m\u001b[0m_class_name\u001b[0m\u001b[0;34m)\u001b[0m\u001b[0;34m)\u001b[0m\u001b[0;34m\u001b[0m\u001b[0;34m\u001b[0m\u001b[0m\n\u001b[1;32m     67\u001b[0m \u001b[0;34m\u001b[0m\u001b[0m\n\u001b[0;32m---> 68\u001b[0;31m         \u001b[0mheader_df\u001b[0m \u001b[0;34m=\u001b[0m \u001b[0mpd\u001b[0m\u001b[0;34m.\u001b[0m\u001b[0mDataFrame\u001b[0m\u001b[0;34m.\u001b[0m\u001b[0mfrom_records\u001b[0m\u001b[0;34m(\u001b[0m\u001b[0mheaders\u001b[0m\u001b[0;34m)\u001b[0m\u001b[0;34m.\u001b[0m\u001b[0mset_index\u001b[0m\u001b[0;34m(\u001b[0m\u001b[0;36m0\u001b[0m\u001b[0;34m)\u001b[0m\u001b[0;34m\u001b[0m\u001b[0;34m\u001b[0m\u001b[0m\n\u001b[0m\u001b[1;32m     69\u001b[0m         \u001b[0mheader_html\u001b[0m \u001b[0;34m=\u001b[0m \u001b[0mheader_df\u001b[0m\u001b[0;34m.\u001b[0m\u001b[0mto_html\u001b[0m\u001b[0;34m(\u001b[0m\u001b[0mheader\u001b[0m\u001b[0;34m=\u001b[0m\u001b[0;32mFalse\u001b[0m\u001b[0;34m,\u001b[0m \u001b[0mnotebook\u001b[0m\u001b[0;34m=\u001b[0m\u001b[0;32mTrue\u001b[0m\u001b[0;34m,\u001b[0m \u001b[0mindex_names\u001b[0m\u001b[0;34m=\u001b[0m\u001b[0;32mFalse\u001b[0m\u001b[0;34m)\u001b[0m\u001b[0;34m\u001b[0m\u001b[0;34m\u001b[0m\u001b[0m\n\u001b[1;32m     70\u001b[0m \u001b[0;34m\u001b[0m\u001b[0m\n",
      "\u001b[0;31mNameError\u001b[0m: name 'pd' is not defined"
     ]
    }
   ],
   "source": [
    "cph.print_summary()"
   ]
  },
  {
   "cell_type": "code",
   "execution_count": null,
   "metadata": {},
   "outputs": [],
   "source": []
  }
 ],
 "metadata": {
  "kernelspec": {
   "display_name": "Python 3",
   "language": "python",
   "name": "python3"
  },
  "language_info": {
   "codemirror_mode": {
    "name": "ipython",
    "version": 3
   },
   "file_extension": ".py",
   "mimetype": "text/x-python",
   "name": "python",
   "nbconvert_exporter": "python",
   "pygments_lexer": "ipython3",
   "version": "3.7.3"
  }
 },
 "nbformat": 4,
 "nbformat_minor": 4
}
